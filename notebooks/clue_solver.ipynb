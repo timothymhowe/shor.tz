{
 "cells": [
  {
   "cell_type": "markdown",
   "source": [
    "# Solving clues with DNN!\n",
    "In this notebook, I outline the process through which the model is able to solve clues."
   ],
   "metadata": {
    "collapsed": false,
    "pycharm": {
     "name": "#%% md\n"
    }
   }
  },
  {
   "cell_type": "code",
   "execution_count": 5,
   "outputs": [],
   "source": [
    "import drqa\n",
    "from nltk.parse.corenlp import CoreNLPParser\n",
    "from drqa.tokenizers import SimpleTokenizer, CoreNLPTokenizer\n",
    "drqa.tokenizers.set_default('corenlp_classpath', '../lib/DrQA/data/corenlp/*')"
   ],
   "metadata": {
    "collapsed": false,
    "pycharm": {
     "name": "#%%\n"
    }
   }
  },
  {
   "cell_type": "code",
   "execution_count": 6,
   "outputs": [
    {
     "data": {
      "text/plain": "['Hello', 'world']"
     },
     "execution_count": 6,
     "metadata": {},
     "output_type": "execute_result"
    }
   ],
   "source": [
    "from drqa.tokenizers import CoreNLPTokenizer\n",
    "tok = CoreNLPTokenizer(mem='2g')\n",
    "tok.tokenize(\"Hello world\").words()  # Should complete immediately"
   ],
   "metadata": {
    "collapsed": false,
    "pycharm": {
     "name": "#%%\n"
    }
   }
  },
  {
   "cell_type": "code",
   "execution_count": null,
   "outputs": [],
   "source": [
    "next(CoreNLPParser().parse(\"hello world\"))"
   ],
   "metadata": {
    "collapsed": false,
    "pycharm": {
     "name": "#%%\n",
     "is_executing": true
    }
   }
  },
  {
   "cell_type": "code",
   "execution_count": 7,
   "outputs": [
    {
     "data": {
      "text/plain": "<drqa.tokenizers.tokenizer.Tokens at 0x7f3933711ef0>"
     },
     "execution_count": 7,
     "metadata": {},
     "output_type": "execute_result"
    }
   ],
   "source": [],
   "metadata": {
    "collapsed": false,
    "pycharm": {
     "name": "#%%\n"
    }
   }
  },
  {
   "cell_type": "code",
   "execution_count": 8,
   "outputs": [
    {
     "ename": "AttributeError",
     "evalue": "'CoreNLPTokenizer' object has no attribute 'words'",
     "output_type": "error",
     "traceback": [
      "\u001B[0;31m---------------------------------------------------------------------------\u001B[0m",
      "\u001B[0;31mAttributeError\u001B[0m                            Traceback (most recent call last)",
      "\u001B[0;32m<ipython-input-8-8c95c7e83d50>\u001B[0m in \u001B[0;36m<module>\u001B[0;34m\u001B[0m\n\u001B[0;32m----> 1\u001B[0;31m \u001B[0mf\u001B[0m\u001B[0;34m.\u001B[0m\u001B[0mwords\u001B[0m\u001B[0;34m(\u001B[0m\u001B[0;34m)\u001B[0m\u001B[0;34m\u001B[0m\u001B[0;34m\u001B[0m\u001B[0m\n\u001B[0m",
      "\u001B[0;31mAttributeError\u001B[0m: 'CoreNLPTokenizer' object has no attribute 'words'"
     ]
    }
   ],
   "source": [],
   "metadata": {
    "collapsed": false,
    "pycharm": {
     "name": "#%%\n"
    }
   }
  },
  {
   "cell_type": "code",
   "execution_count": 11,
   "outputs": [
    {
     "data": {
      "text/plain": "                answer                                               clue\n0                  AAA                                Big gp. of towers? \n1                  AAA                     Great \"Three R's\" report card?\n2                  AAA  Org. that can get you discounts on mortgages a...\n3                 AAAA                   Fonzi's report card, so he says?\n4                  AAH                       Sound heard from a Jacuzzi? \n...                ...                                                ...\n15211              ZOO  Scorpions song about animal exhibition (with \"...\n15212        ZOOKEEPER                             Big cat person, maybe?\n15213    ZORBATHEGRIEG                            Quinn, Norwegian style?\n15214       ZOXHZUHEHE  Do the \"I am not a crook\" thing with the doubl...\n15215  ZZTOPMANAGEMENT                 \"Sharp Dressed Man\" band's agents?\n\n[15216 rows x 2 columns]",
      "text/html": "<div>\n<style scoped>\n    .dataframe tbody tr th:only-of-type {\n        vertical-align: middle;\n    }\n\n    .dataframe tbody tr th {\n        vertical-align: top;\n    }\n\n    .dataframe thead th {\n        text-align: right;\n    }\n</style>\n<table border=\"1\" class=\"dataframe\">\n  <thead>\n    <tr style=\"text-align: right;\">\n      <th></th>\n      <th>answer</th>\n      <th>clue</th>\n    </tr>\n  </thead>\n  <tbody>\n    <tr>\n      <th>0</th>\n      <td>AAA</td>\n      <td>Big gp. of towers?</td>\n    </tr>\n    <tr>\n      <th>1</th>\n      <td>AAA</td>\n      <td>Great \"Three R's\" report card?</td>\n    </tr>\n    <tr>\n      <th>2</th>\n      <td>AAA</td>\n      <td>Org. that can get you discounts on mortgages a...</td>\n    </tr>\n    <tr>\n      <th>3</th>\n      <td>AAAA</td>\n      <td>Fonzi's report card, so he says?</td>\n    </tr>\n    <tr>\n      <th>4</th>\n      <td>AAH</td>\n      <td>Sound heard from a Jacuzzi?</td>\n    </tr>\n    <tr>\n      <th>...</th>\n      <td>...</td>\n      <td>...</td>\n    </tr>\n    <tr>\n      <th>15211</th>\n      <td>ZOO</td>\n      <td>Scorpions song about animal exhibition (with \"...</td>\n    </tr>\n    <tr>\n      <th>15212</th>\n      <td>ZOOKEEPER</td>\n      <td>Big cat person, maybe?</td>\n    </tr>\n    <tr>\n      <th>15213</th>\n      <td>ZORBATHEGRIEG</td>\n      <td>Quinn, Norwegian style?</td>\n    </tr>\n    <tr>\n      <th>15214</th>\n      <td>ZOXHZUHEHE</td>\n      <td>Do the \"I am not a crook\" thing with the doubl...</td>\n    </tr>\n    <tr>\n      <th>15215</th>\n      <td>ZZTOPMANAGEMENT</td>\n      <td>\"Sharp Dressed Man\" band's agents?</td>\n    </tr>\n  </tbody>\n</table>\n<p>15216 rows × 2 columns</p>\n</div>"
     },
     "execution_count": 11,
     "metadata": {},
     "output_type": "execute_result"
    }
   ],
   "source": [
    "from sklearn.model_selection import train_test_split\n",
    "import pandas as pd\n",
    "\n",
    "df = pd.read_csv('../data/puns.csv',header=None,names=['answer','clue'])\n",
    "df"
   ],
   "metadata": {
    "collapsed": false,
    "pycharm": {
     "name": "#%%\n"
    }
   }
  },
  {
   "cell_type": "code",
   "execution_count": 12,
   "outputs": [
    {
     "ename": "SyntaxError",
     "evalue": "invalid syntax (<ipython-input-12-b71e98016906>, line 3)",
     "output_type": "error",
     "traceback": [
      "\u001B[0;36m  File \u001B[0;32m\"<ipython-input-12-b71e98016906>\"\u001B[0;36m, line \u001B[0;32m3\u001B[0m\n\u001B[0;31m    from drqa.scripts\u001B[0m\n\u001B[0m                     ^\u001B[0m\n\u001B[0;31mSyntaxError\u001B[0m\u001B[0;31m:\u001B[0m invalid syntax\n"
     ]
    }
   ],
   "source": [
    "from drqa import pipeline\n",
    "\n",
    "from drqa.scripts"
   ],
   "metadata": {
    "collapsed": false,
    "pycharm": {
     "name": "#%%\n"
    }
   }
  },
  {
   "cell_type": "code",
   "execution_count": 17,
   "outputs": [],
   "source": [
    "word_list = pd.read_csv('../data/word_list.csv',sep=';',header=None,names=['word','score'])"
   ],
   "metadata": {
    "collapsed": false,
    "pycharm": {
     "name": "#%%\n"
    }
   }
  },
  {
   "cell_type": "code",
   "execution_count": 18,
   "outputs": [
    {
     "data": {
      "text/plain": "                    word  score\n0       03BONNIEANDCLYDE     56\n1                    0AD     25\n2                    0BC     25\n3                    0TH     75\n4                    100      5\n...                  ...    ...\n567650          ZZYZWICZ     50\n567651             ZZYZX     48\n567652               ZZZ     30\n567653           ZZZQUIL     50\n567654             ZZZZZ     46\n\n[567655 rows x 2 columns]",
      "text/html": "<div>\n<style scoped>\n    .dataframe tbody tr th:only-of-type {\n        vertical-align: middle;\n    }\n\n    .dataframe tbody tr th {\n        vertical-align: top;\n    }\n\n    .dataframe thead th {\n        text-align: right;\n    }\n</style>\n<table border=\"1\" class=\"dataframe\">\n  <thead>\n    <tr style=\"text-align: right;\">\n      <th></th>\n      <th>word</th>\n      <th>score</th>\n    </tr>\n  </thead>\n  <tbody>\n    <tr>\n      <th>0</th>\n      <td>03BONNIEANDCLYDE</td>\n      <td>56</td>\n    </tr>\n    <tr>\n      <th>1</th>\n      <td>0AD</td>\n      <td>25</td>\n    </tr>\n    <tr>\n      <th>2</th>\n      <td>0BC</td>\n      <td>25</td>\n    </tr>\n    <tr>\n      <th>3</th>\n      <td>0TH</td>\n      <td>75</td>\n    </tr>\n    <tr>\n      <th>4</th>\n      <td>100</td>\n      <td>5</td>\n    </tr>\n    <tr>\n      <th>...</th>\n      <td>...</td>\n      <td>...</td>\n    </tr>\n    <tr>\n      <th>567650</th>\n      <td>ZZYZWICZ</td>\n      <td>50</td>\n    </tr>\n    <tr>\n      <th>567651</th>\n      <td>ZZYZX</td>\n      <td>48</td>\n    </tr>\n    <tr>\n      <th>567652</th>\n      <td>ZZZ</td>\n      <td>30</td>\n    </tr>\n    <tr>\n      <th>567653</th>\n      <td>ZZZQUIL</td>\n      <td>50</td>\n    </tr>\n    <tr>\n      <th>567654</th>\n      <td>ZZZZZ</td>\n      <td>46</td>\n    </tr>\n  </tbody>\n</table>\n<p>567655 rows × 2 columns</p>\n</div>"
     },
     "execution_count": 18,
     "metadata": {},
     "output_type": "execute_result"
    }
   ],
   "source": [
    "word_list"
   ],
   "metadata": {
    "collapsed": false,
    "pycharm": {
     "name": "#%%\n"
    }
   }
  },
  {
   "cell_type": "code",
   "execution_count": 34,
   "outputs": [],
   "source": [
    "import regex"
   ],
   "metadata": {
    "collapsed": false,
    "pycharm": {
     "name": "#%%\n"
    }
   }
  },
  {
   "cell_type": "code",
   "execution_count": 40,
   "outputs": [],
   "source": [
    "no_nums_wl = word_list[~word_list['word'].str.contains(r'\\d').astype(bool)]\n",
    "correct_length_wl = no_nums_wl[no_nums_wl['word'].str.len() >=3]\n",
    "correct_length_wl = correct_length_wl[correct_length_wl['word'].str.len()<=15]"
   ],
   "metadata": {
    "collapsed": false,
    "pycharm": {
     "name": "#%%\n"
    }
   }
  },
  {
   "cell_type": "code",
   "execution_count": 41,
   "outputs": [
    {
     "data": {
      "text/plain": "               word  score\n489             AAA     50\n490            AAAA     30\n491           AAAAH     25\n492     AAAAUTOCLUB     50\n493         AAABALL     75\n...             ...    ...\n567650     ZZYZWICZ     50\n567651        ZZYZX     48\n567652          ZZZ     30\n567653      ZZZQUIL     50\n567654        ZZZZZ     46\n\n[509170 rows x 2 columns]",
      "text/html": "<div>\n<style scoped>\n    .dataframe tbody tr th:only-of-type {\n        vertical-align: middle;\n    }\n\n    .dataframe tbody tr th {\n        vertical-align: top;\n    }\n\n    .dataframe thead th {\n        text-align: right;\n    }\n</style>\n<table border=\"1\" class=\"dataframe\">\n  <thead>\n    <tr style=\"text-align: right;\">\n      <th></th>\n      <th>word</th>\n      <th>score</th>\n    </tr>\n  </thead>\n  <tbody>\n    <tr>\n      <th>489</th>\n      <td>AAA</td>\n      <td>50</td>\n    </tr>\n    <tr>\n      <th>490</th>\n      <td>AAAA</td>\n      <td>30</td>\n    </tr>\n    <tr>\n      <th>491</th>\n      <td>AAAAH</td>\n      <td>25</td>\n    </tr>\n    <tr>\n      <th>492</th>\n      <td>AAAAUTOCLUB</td>\n      <td>50</td>\n    </tr>\n    <tr>\n      <th>493</th>\n      <td>AAABALL</td>\n      <td>75</td>\n    </tr>\n    <tr>\n      <th>...</th>\n      <td>...</td>\n      <td>...</td>\n    </tr>\n    <tr>\n      <th>567650</th>\n      <td>ZZYZWICZ</td>\n      <td>50</td>\n    </tr>\n    <tr>\n      <th>567651</th>\n      <td>ZZYZX</td>\n      <td>48</td>\n    </tr>\n    <tr>\n      <th>567652</th>\n      <td>ZZZ</td>\n      <td>30</td>\n    </tr>\n    <tr>\n      <th>567653</th>\n      <td>ZZZQUIL</td>\n      <td>50</td>\n    </tr>\n    <tr>\n      <th>567654</th>\n      <td>ZZZZZ</td>\n      <td>46</td>\n    </tr>\n  </tbody>\n</table>\n<p>509170 rows × 2 columns</p>\n</div>"
     },
     "execution_count": 41,
     "metadata": {},
     "output_type": "execute_result"
    }
   ],
   "source": [
    "correct_length_wl"
   ],
   "metadata": {
    "collapsed": false,
    "pycharm": {
     "name": "#%%\n"
    }
   }
  },
  {
   "cell_type": "code",
   "execution_count": 47,
   "outputs": [],
   "source": [
    "%load ../src/dp_wordbreak.py\n"
   ],
   "metadata": {
    "collapsed": false,
    "pycharm": {
     "name": "#%%\n"
    }
   }
  },
  {
   "cell_type": "code",
   "execution_count": 49,
   "outputs": [
    {
     "ename": "SyntaxError",
     "evalue": "invalid syntax (<ipython-input-49-2dab1a161a4c>, line 3)",
     "output_type": "error",
     "traceback": [
      "\u001B[0;36m  File \u001B[0;32m\"<ipython-input-49-2dab1a161a4c>\"\u001B[0;36m, line \u001B[0;32m3\u001B[0m\n\u001B[0;31m    import ../src/dp_wordbreak\u001B[0m\n\u001B[0m           ^\u001B[0m\n\u001B[0;31mSyntaxError\u001B[0m\u001B[0;31m:\u001B[0m invalid syntax\n"
     ]
    }
   ],
   "source": [
    "%load?\n",
    "\n",
    "import ../src/dp_wordbreak"
   ],
   "metadata": {
    "collapsed": false,
    "pycharm": {
     "name": "#%%\n"
    }
   }
  },
  {
   "cell_type": "code",
   "execution_count": 51,
   "outputs": [],
   "source": [
    "import sys\n",
    "sys.path.insert(0,'/home/thowe/proj_ssd/shor.tz/src/')"
   ],
   "metadata": {
    "collapsed": false,
    "pycharm": {
     "name": "#%%\n"
    }
   }
  },
  {
   "cell_type": "code",
   "execution_count": 53,
   "outputs": [],
   "source": [
    "from dp_wordbreak import Trie, TrieNode, WordBreaker"
   ],
   "metadata": {
    "collapsed": false,
    "pycharm": {
     "name": "#%%\n"
    }
   }
  },
  {
   "cell_type": "code",
   "execution_count": 54,
   "outputs": [],
   "source": [
    "wb = WordBreaker()"
   ],
   "metadata": {
    "collapsed": false,
    "pycharm": {
     "name": "#%%\n"
    }
   }
  },
  {
   "cell_type": "code",
   "execution_count": 59,
   "outputs": [
    {
     "ename": "AttributeError",
     "evalue": "'Trie' object has no attribute 'root'",
     "output_type": "error",
     "traceback": [
      "\u001B[0;31m---------------------------------------------------------------------------\u001B[0m",
      "\u001B[0;31mAttributeError\u001B[0m                            Traceback (most recent call last)",
      "\u001B[0;32m<ipython-input-59-f21030c0b660>\u001B[0m in \u001B[0;36m<module>\u001B[0;34m\u001B[0m\n\u001B[0;32m----> 1\u001B[0;31m \u001B[0mwb\u001B[0m\u001B[0;34m.\u001B[0m\u001B[0mword_break\u001B[0m\u001B[0;34m(\u001B[0m\u001B[0;34m\"hell\"\u001B[0m\u001B[0;34m,\u001B[0m\u001B[0;34m[\u001B[0m\u001B[0;34m'he'\u001B[0m\u001B[0;34m,\u001B[0m\u001B[0;34m'll'\u001B[0m\u001B[0;34m]\u001B[0m\u001B[0;34m)\u001B[0m\u001B[0;34m\u001B[0m\u001B[0;34m\u001B[0m\u001B[0m\n\u001B[0m",
      "\u001B[0;32m~/proj_ssd/shor.tz/src/dp_wordbreak.py\u001B[0m in \u001B[0;36mword_break\u001B[0;34m(self, s, wordDict)\u001B[0m\n\u001B[1;32m      9\u001B[0m         \u001B[0mtrie\u001B[0m \u001B[0;34m=\u001B[0m \u001B[0mTrie\u001B[0m\u001B[0;34m(\u001B[0m\u001B[0;34m)\u001B[0m\u001B[0;34m\u001B[0m\u001B[0;34m\u001B[0m\u001B[0m\n\u001B[1;32m     10\u001B[0m         \u001B[0;32mfor\u001B[0m \u001B[0mword\u001B[0m \u001B[0;32min\u001B[0m \u001B[0mwordDict\u001B[0m\u001B[0;34m:\u001B[0m\u001B[0;34m\u001B[0m\u001B[0;34m\u001B[0m\u001B[0m\n\u001B[0;32m---> 11\u001B[0;31m             \u001B[0mtrie\u001B[0m\u001B[0;34m.\u001B[0m\u001B[0madd\u001B[0m\u001B[0;34m(\u001B[0m\u001B[0mword\u001B[0m\u001B[0;34m)\u001B[0m\u001B[0;34m\u001B[0m\u001B[0;34m\u001B[0m\u001B[0m\n\u001B[0m\u001B[1;32m     12\u001B[0m         \u001B[0mprint\u001B[0m\u001B[0;34m(\u001B[0m\u001B[0mtrie\u001B[0m\u001B[0;34m.\u001B[0m\u001B[0mroot\u001B[0m\u001B[0;34m.\u001B[0m\u001B[0mchildren\u001B[0m\u001B[0;34m)\u001B[0m\u001B[0;34m\u001B[0m\u001B[0;34m\u001B[0m\u001B[0m\n\u001B[1;32m     13\u001B[0m \u001B[0;34m\u001B[0m\u001B[0m\n",
      "\u001B[0;32m~/proj_ssd/shor.tz/src/dp_wordbreak.py\u001B[0m in \u001B[0;36madd\u001B[0;34m(self, word)\u001B[0m\n\u001B[1;32m     28\u001B[0m \u001B[0;34m\u001B[0m\u001B[0m\n\u001B[1;32m     29\u001B[0m     \u001B[0;32mdef\u001B[0m \u001B[0madd\u001B[0m \u001B[0;34m(\u001B[0m\u001B[0mself\u001B[0m\u001B[0;34m,\u001B[0m\u001B[0mword\u001B[0m\u001B[0;34m)\u001B[0m\u001B[0;34m:\u001B[0m\u001B[0;34m\u001B[0m\u001B[0;34m\u001B[0m\u001B[0m\n\u001B[0;32m---> 30\u001B[0;31m         \u001B[0mroot\u001B[0m \u001B[0;34m=\u001B[0m \u001B[0mself\u001B[0m\u001B[0;34m.\u001B[0m\u001B[0mroot\u001B[0m\u001B[0;34m\u001B[0m\u001B[0;34m\u001B[0m\u001B[0m\n\u001B[0m\u001B[1;32m     31\u001B[0m         \u001B[0;32mfor\u001B[0m \u001B[0mchar\u001B[0m \u001B[0;32min\u001B[0m \u001B[0mword\u001B[0m\u001B[0;34m:\u001B[0m\u001B[0;34m\u001B[0m\u001B[0;34m\u001B[0m\u001B[0m\n\u001B[1;32m     32\u001B[0m             \u001B[0;32mif\u001B[0m \u001B[0mchar\u001B[0m \u001B[0;32mnot\u001B[0m \u001B[0;32min\u001B[0m \u001B[0mroot\u001B[0m\u001B[0;34m.\u001B[0m\u001B[0mchildren\u001B[0m\u001B[0;34m:\u001B[0m\u001B[0;34m\u001B[0m\u001B[0;34m\u001B[0m\u001B[0m\n",
      "\u001B[0;31mAttributeError\u001B[0m: 'Trie' object has no attribute 'root'"
     ]
    }
   ],
   "source": [
    "wb.word_break(\"hell\",['he','ll'])"
   ],
   "metadata": {
    "collapsed": false,
    "pycharm": {
     "name": "#%%\n"
    }
   }
  },
  {
   "cell_type": "code",
   "execution_count": null,
   "outputs": [],
   "source": [],
   "metadata": {
    "collapsed": false,
    "pycharm": {
     "name": "#%%\n"
    }
   }
  }
 ],
 "metadata": {
  "kernelspec": {
   "name": "drqa-work-please",
   "language": "python",
   "display_name": "PLEASE!"
  },
  "language_info": {
   "codemirror_mode": {
    "name": "ipython",
    "version": 2
   },
   "file_extension": ".py",
   "mimetype": "text/x-python",
   "name": "python",
   "nbconvert_exporter": "python",
   "pygments_lexer": "ipython2",
   "version": "2.7.6"
  }
 },
 "nbformat": 4,
 "nbformat_minor": 0
}
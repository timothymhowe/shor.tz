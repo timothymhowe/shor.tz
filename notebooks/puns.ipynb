{
 "cells": [
  {
   "cell_type": "code",
   "execution_count": 12,
   "metadata": {
    "collapsed": true,
    "pycharm": {
     "name": "#%%\n"
    }
   },
   "outputs": [],
   "source": [
    "import pandas as pd\n",
    "import numpy as np\n",
    "from hashformers import TransformerWordSegmenter as WordSegmenter\n",
    "import mxnet"
   ]
  },
  {
   "cell_type": "code",
   "execution_count": 14,
   "outputs": [],
   "source": [
    "# load the pun dataset\n",
    "pun_df = pd.read_csv('../data/puns.csv',header=None,names=[\"answer\",\"clue\"])"
   ],
   "metadata": {
    "collapsed": false,
    "pycharm": {
     "name": "#%%\n"
    }
   }
  },
  {
   "cell_type": "code",
   "execution_count": 15,
   "outputs": [
    {
     "data": {
      "text/plain": "                answer                                               clue\n0                  AAA                                Big gp. of towers? \n1                  AAA                     Great \"Three R's\" report card?\n2                  AAA  Org. that can get you discounts on mortgages a...\n3                 AAAA                   Fonzi's report card, so he says?\n4                  AAH                       Sound heard from a Jacuzzi? \n...                ...                                                ...\n15211              ZOO  Scorpions song about animal exhibition (with \"...\n15212        ZOOKEEPER                             Big cat person, maybe?\n15213    ZORBATHEGRIEG                            Quinn, Norwegian style?\n15214       ZOXHZUHEHE  Do the \"I am not a crook\" thing with the doubl...\n15215  ZZTOPMANAGEMENT                 \"Sharp Dressed Man\" band's agents?\n\n[15216 rows x 2 columns]",
      "text/html": "<div>\n<style scoped>\n    .dataframe tbody tr th:only-of-type {\n        vertical-align: middle;\n    }\n\n    .dataframe tbody tr th {\n        vertical-align: top;\n    }\n\n    .dataframe thead th {\n        text-align: right;\n    }\n</style>\n<table border=\"1\" class=\"dataframe\">\n  <thead>\n    <tr style=\"text-align: right;\">\n      <th></th>\n      <th>answer</th>\n      <th>clue</th>\n    </tr>\n  </thead>\n  <tbody>\n    <tr>\n      <th>0</th>\n      <td>AAA</td>\n      <td>Big gp. of towers?</td>\n    </tr>\n    <tr>\n      <th>1</th>\n      <td>AAA</td>\n      <td>Great \"Three R's\" report card?</td>\n    </tr>\n    <tr>\n      <th>2</th>\n      <td>AAA</td>\n      <td>Org. that can get you discounts on mortgages a...</td>\n    </tr>\n    <tr>\n      <th>3</th>\n      <td>AAAA</td>\n      <td>Fonzi's report card, so he says?</td>\n    </tr>\n    <tr>\n      <th>4</th>\n      <td>AAH</td>\n      <td>Sound heard from a Jacuzzi?</td>\n    </tr>\n    <tr>\n      <th>...</th>\n      <td>...</td>\n      <td>...</td>\n    </tr>\n    <tr>\n      <th>15211</th>\n      <td>ZOO</td>\n      <td>Scorpions song about animal exhibition (with \"...</td>\n    </tr>\n    <tr>\n      <th>15212</th>\n      <td>ZOOKEEPER</td>\n      <td>Big cat person, maybe?</td>\n    </tr>\n    <tr>\n      <th>15213</th>\n      <td>ZORBATHEGRIEG</td>\n      <td>Quinn, Norwegian style?</td>\n    </tr>\n    <tr>\n      <th>15214</th>\n      <td>ZOXHZUHEHE</td>\n      <td>Do the \"I am not a crook\" thing with the doubl...</td>\n    </tr>\n    <tr>\n      <th>15215</th>\n      <td>ZZTOPMANAGEMENT</td>\n      <td>\"Sharp Dressed Man\" band's agents?</td>\n    </tr>\n  </tbody>\n</table>\n<p>15216 rows × 2 columns</p>\n</div>"
     },
     "execution_count": 15,
     "metadata": {},
     "output_type": "execute_result"
    }
   ],
   "source": [
    "pun_df"
   ],
   "metadata": {
    "collapsed": false,
    "pycharm": {
     "name": "#%%\n"
    }
   }
  },
  {
   "cell_type": "code",
   "execution_count": 13,
   "outputs": [
    {
     "name": "stderr",
     "output_type": "stream",
     "text": [
      "/home/thowe/miniconda3/envs/pytorch-rapids/lib/python3.9/site-packages/mxnet/optimizer/optimizer.py:163: UserWarning: WARNING: New optimizer gluonnlp.optimizer.lamb.LAMB is overriding existing optimizer mxnet.optimizer.optimizer.LAMB\n",
      "  warnings.warn('WARNING: New optimizer %s.%s is overriding '\n",
      "WARNING:root:Model 'bert-base-uncased' not recognized as an MXNet model; treating as PyTorch model\n",
      "Some weights of the model checkpoint at bert-base-uncased were not used when initializing BertForMaskedLMOptimized: ['cls.seq_relationship.weight', 'cls.seq_relationship.bias']\n",
      "- This IS expected if you are initializing BertForMaskedLMOptimized from the checkpoint of a model trained on another task or with another architecture (e.g. initializing a BertForSequenceClassification model from a BertForPreTraining model).\n",
      "- This IS NOT expected if you are initializing BertForMaskedLMOptimized from the checkpoint of a model that you expect to be exactly identical (initializing a BertForSequenceClassification model from a BertForSequenceClassification model).\n",
      "WARNING:root:Created scorer of class 'MLMScorerPT'.\n"
     ]
    }
   ],
   "source": [
    "\n",
    "ws = WordSegmenter(\n",
    "    segmenter_model_name_or_path=\"gpt2\",\n",
    "    reranker_model_name_or_path=\"bert-base-uncased\"\n",
    ")"
   ],
   "metadata": {
    "collapsed": false,
    "pycharm": {
     "name": "#%%\n"
    }
   }
  },
  {
   "cell_type": "code",
   "execution_count": null,
   "outputs": [],
   "source": [
    "pun_df['answer_seg'] = ws.segment(word_list=pun_df.answer)\n",
    "# ws.segment(pun_df.answer)"
   ],
   "metadata": {
    "collapsed": false,
    "pycharm": {
     "name": "#%%\n",
     "is_executing": true
    }
   }
  },
  {
   "cell_type": "code",
   "execution_count": null,
   "outputs": [],
   "source": [
    "import pickle\n",
    "pickle.dump(pun_df, open('../bin/puns_segmented.pickle','wb'))"
   ],
   "metadata": {
    "collapsed": false,
    "pycharm": {
     "name": "#%%\n",
     "is_executing": true
    }
   }
  },
  {
   "cell_type": "code",
   "execution_count": null,
   "outputs": [],
   "source": [],
   "metadata": {
    "collapsed": false,
    "pycharm": {
     "name": "#%%\n"
    }
   }
  }
 ],
 "metadata": {
  "kernelspec": {
   "name": "conda-env-pytorch-rapids-py",
   "language": "python",
   "display_name": "Python [conda env:pytorch-rapids]"
  },
  "language_info": {
   "codemirror_mode": {
    "name": "ipython",
    "version": 2
   },
   "file_extension": ".py",
   "mimetype": "text/x-python",
   "name": "python",
   "nbconvert_exporter": "python",
   "pygments_lexer": "ipython2",
   "version": "2.7.6"
  }
 },
 "nbformat": 4,
 "nbformat_minor": 0
}
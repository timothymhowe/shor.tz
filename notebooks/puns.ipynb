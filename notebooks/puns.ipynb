{
 "cells": [
  {
   "cell_type": "code",
   "execution_count": 2,
   "metadata": {
    "collapsed": true,
    "pycharm": {
     "name": "#%%\n"
    }
   },
   "outputs": [],
   "source": [
    "import pandas as pd\n",
    "from hashformers import TransformerWordSegmenter as WordSegmenter"
   ]
  },
  {
   "cell_type": "code",
   "execution_count": 14,
   "outputs": [],
   "source": [
    "# load the pun dataset\n",
    "pun_df = pd.read_csv('../data/puns.csv',header=None,names=[\"answer\",\"clue\"])"
   ],
   "metadata": {
    "collapsed": false,
    "pycharm": {
     "name": "#%%\n"
    }
   }
  },
  {
   "cell_type": "code",
   "execution_count": 13,
   "outputs": [
    {
     "name": "stderr",
     "output_type": "stream",
     "text": [
      "/home/thowe/miniconda3/envs/pytorch-rapids/lib/python3.9/site-packages/mxnet/optimizer/optimizer.py:163: UserWarning: WARNING: New optimizer gluonnlp.optimizer.lamb.LAMB is overriding existing optimizer mxnet.optimizer.optimizer.LAMB\n",
      "  warnings.warn('WARNING: New optimizer %s.%s is overriding '\n",
      "WARNING:root:Model 'bert-base-uncased' not recognized as an MXNet model; treating as PyTorch model\n",
      "Some weights of the model checkpoint at bert-base-uncased were not used when initializing BertForMaskedLMOptimized: ['cls.seq_relationship.weight', 'cls.seq_relationship.bias']\n",
      "- This IS expected if you are initializing BertForMaskedLMOptimized from the checkpoint of a model trained on another task or with another architecture (e.g. initializing a BertForSequenceClassification model from a BertForPreTraining model).\n",
      "- This IS NOT expected if you are initializing BertForMaskedLMOptimized from the checkpoint of a model that you expect to be exactly identical (initializing a BertForSequenceClassification model from a BertForSequenceClassification model).\n",
      "WARNING:root:Created scorer of class 'MLMScorerPT'.\n"
     ]
    }
   ],
   "source": [
    "# Initialize the word segmenter\n",
    "ws = WordSegmenter(\n",
    "    segmenter_model_name_or_path=\"gpt2\",\n",
    "    reranker_model_name_or_path=\"bert-base-uncased\"\n",
    ")"
   ],
   "metadata": {
    "collapsed": false,
    "pycharm": {
     "name": "#%%\n"
    }
   }
  },
  {
   "cell_type": "code",
   "execution_count": 18,
   "outputs": [],
   "source": [
    "# segment the puns using the segmenter\n",
    "pun_df['answer_seg'] = ws.segment(word_list=pun_df.answer)"
   ],
   "metadata": {
    "collapsed": false,
    "pycharm": {
     "name": "#%%\n"
    }
   }
  },
  {
   "cell_type": "code",
   "execution_count": 19,
   "outputs": [],
   "source": [
    "# pickle the output\n",
    "import pickle\n",
    "pickle.dump(pun_df, open('../bin/puns_segmented.pickle','wb'))"
   ],
   "metadata": {
    "collapsed": false,
    "pycharm": {
     "name": "#%%\n"
    }
   }
  },
  {
   "cell_type": "code",
   "execution_count": 21,
   "outputs": [],
   "source": [
    "pun_df.to_csv('../data/clean/nyt_split_puns.csv',index=None)"
   ],
   "metadata": {
    "collapsed": false,
    "pycharm": {
     "name": "#%%\n"
    }
   }
  },
  {
   "cell_type": "code",
   "execution_count": 3,
   "outputs": [
    {
     "ename": "NameError",
     "evalue": "name 'pun_df' is not defined",
     "output_type": "error",
     "traceback": [
      "\u001B[0;31m---------------------------------------------------------------------------\u001B[0m",
      "\u001B[0;31mNameError\u001B[0m                                 Traceback (most recent call last)",
      "Input \u001B[0;32mIn [3]\u001B[0m, in \u001B[0;36m<cell line: 1>\u001B[0;34m()\u001B[0m\n\u001B[0;32m----> 1\u001B[0m \u001B[43mpun_df\u001B[49m\n",
      "\u001B[0;31mNameError\u001B[0m: name 'pun_df' is not defined"
     ]
    }
   ],
   "source": [
    "pun_df"
   ],
   "metadata": {
    "collapsed": false,
    "pycharm": {
     "name": "#%%\n"
    }
   }
  },
  {
   "cell_type": "code",
   "execution_count": 4,
   "outputs": [],
   "source": [
    "pun_df = pd.read_csv('../data/clean/nyt_split_puns.csv')"
   ],
   "metadata": {
    "collapsed": false,
    "pycharm": {
     "name": "#%%\n"
    }
   }
  },
  {
   "cell_type": "code",
   "execution_count": 6,
   "outputs": [],
   "source": [
    "pun_df = pun_df.drop(\"answer\",axis=1)"
   ],
   "metadata": {
    "collapsed": false,
    "pycharm": {
     "name": "#%%\n"
    }
   }
  },
  {
   "cell_type": "code",
   "execution_count": 7,
   "outputs": [
    {
     "data": {
      "text/plain": "                                                    clue         answer_seg\n0                                    Big gp. of towers?                 AAA\n1                         Great \"Three R's\" report card?                AAA\n2      Org. that can get you discounts on mortgages a...                AAA\n3                       Fonzi's report card, so he says?               AAAA\n4                           Sound heard from a Jacuzzi?                 AAH\n...                                                  ...                ...\n15211  Scorpions song about animal exhibition (with \"...                ZOO\n15212                             Big cat person, maybe?         ZOO KEEPER\n15213                            Quinn, Norwegian style?    ZORBA THE GRIEG\n15214  Do the \"I am not a crook\" thing with the doubl...        ZOXHZU HEHE\n15215                 \"Sharp Dressed Man\" band's agents?  ZZ TOP MANAGEMENT\n\n[15216 rows x 2 columns]",
      "text/html": "<div>\n<style scoped>\n    .dataframe tbody tr th:only-of-type {\n        vertical-align: middle;\n    }\n\n    .dataframe tbody tr th {\n        vertical-align: top;\n    }\n\n    .dataframe thead th {\n        text-align: right;\n    }\n</style>\n<table border=\"1\" class=\"dataframe\">\n  <thead>\n    <tr style=\"text-align: right;\">\n      <th></th>\n      <th>clue</th>\n      <th>answer_seg</th>\n    </tr>\n  </thead>\n  <tbody>\n    <tr>\n      <th>0</th>\n      <td>Big gp. of towers?</td>\n      <td>AAA</td>\n    </tr>\n    <tr>\n      <th>1</th>\n      <td>Great \"Three R's\" report card?</td>\n      <td>AAA</td>\n    </tr>\n    <tr>\n      <th>2</th>\n      <td>Org. that can get you discounts on mortgages a...</td>\n      <td>AAA</td>\n    </tr>\n    <tr>\n      <th>3</th>\n      <td>Fonzi's report card, so he says?</td>\n      <td>AAAA</td>\n    </tr>\n    <tr>\n      <th>4</th>\n      <td>Sound heard from a Jacuzzi?</td>\n      <td>AAH</td>\n    </tr>\n    <tr>\n      <th>...</th>\n      <td>...</td>\n      <td>...</td>\n    </tr>\n    <tr>\n      <th>15211</th>\n      <td>Scorpions song about animal exhibition (with \"...</td>\n      <td>ZOO</td>\n    </tr>\n    <tr>\n      <th>15212</th>\n      <td>Big cat person, maybe?</td>\n      <td>ZOO KEEPER</td>\n    </tr>\n    <tr>\n      <th>15213</th>\n      <td>Quinn, Norwegian style?</td>\n      <td>ZORBA THE GRIEG</td>\n    </tr>\n    <tr>\n      <th>15214</th>\n      <td>Do the \"I am not a crook\" thing with the doubl...</td>\n      <td>ZOXHZU HEHE</td>\n    </tr>\n    <tr>\n      <th>15215</th>\n      <td>\"Sharp Dressed Man\" band's agents?</td>\n      <td>ZZ TOP MANAGEMENT</td>\n    </tr>\n  </tbody>\n</table>\n<p>15216 rows × 2 columns</p>\n</div>"
     },
     "execution_count": 7,
     "metadata": {},
     "output_type": "execute_result"
    }
   ],
   "source": [
    "pun_df"
   ],
   "metadata": {
    "collapsed": false,
    "pycharm": {
     "name": "#%%\n"
    }
   }
  },
  {
   "cell_type": "code",
   "execution_count": 8,
   "outputs": [],
   "source": [
    "pun_df.columns = ['question','answer']"
   ],
   "metadata": {
    "collapsed": false,
    "pycharm": {
     "name": "#%%\n"
    }
   }
  },
  {
   "cell_type": "code",
   "execution_count": 9,
   "outputs": [
    {
     "data": {
      "text/plain": "                                                question             answer\n0                                    Big gp. of towers?                 AAA\n1                         Great \"Three R's\" report card?                AAA\n2      Org. that can get you discounts on mortgages a...                AAA\n3                       Fonzi's report card, so he says?               AAAA\n4                           Sound heard from a Jacuzzi?                 AAH\n...                                                  ...                ...\n15211  Scorpions song about animal exhibition (with \"...                ZOO\n15212                             Big cat person, maybe?         ZOO KEEPER\n15213                            Quinn, Norwegian style?    ZORBA THE GRIEG\n15214  Do the \"I am not a crook\" thing with the doubl...        ZOXHZU HEHE\n15215                 \"Sharp Dressed Man\" band's agents?  ZZ TOP MANAGEMENT\n\n[15216 rows x 2 columns]",
      "text/html": "<div>\n<style scoped>\n    .dataframe tbody tr th:only-of-type {\n        vertical-align: middle;\n    }\n\n    .dataframe tbody tr th {\n        vertical-align: top;\n    }\n\n    .dataframe thead th {\n        text-align: right;\n    }\n</style>\n<table border=\"1\" class=\"dataframe\">\n  <thead>\n    <tr style=\"text-align: right;\">\n      <th></th>\n      <th>question</th>\n      <th>answer</th>\n    </tr>\n  </thead>\n  <tbody>\n    <tr>\n      <th>0</th>\n      <td>Big gp. of towers?</td>\n      <td>AAA</td>\n    </tr>\n    <tr>\n      <th>1</th>\n      <td>Great \"Three R's\" report card?</td>\n      <td>AAA</td>\n    </tr>\n    <tr>\n      <th>2</th>\n      <td>Org. that can get you discounts on mortgages a...</td>\n      <td>AAA</td>\n    </tr>\n    <tr>\n      <th>3</th>\n      <td>Fonzi's report card, so he says?</td>\n      <td>AAAA</td>\n    </tr>\n    <tr>\n      <th>4</th>\n      <td>Sound heard from a Jacuzzi?</td>\n      <td>AAH</td>\n    </tr>\n    <tr>\n      <th>...</th>\n      <td>...</td>\n      <td>...</td>\n    </tr>\n    <tr>\n      <th>15211</th>\n      <td>Scorpions song about animal exhibition (with \"...</td>\n      <td>ZOO</td>\n    </tr>\n    <tr>\n      <th>15212</th>\n      <td>Big cat person, maybe?</td>\n      <td>ZOO KEEPER</td>\n    </tr>\n    <tr>\n      <th>15213</th>\n      <td>Quinn, Norwegian style?</td>\n      <td>ZORBA THE GRIEG</td>\n    </tr>\n    <tr>\n      <th>15214</th>\n      <td>Do the \"I am not a crook\" thing with the doubl...</td>\n      <td>ZOXHZU HEHE</td>\n    </tr>\n    <tr>\n      <th>15215</th>\n      <td>\"Sharp Dressed Man\" band's agents?</td>\n      <td>ZZ TOP MANAGEMENT</td>\n    </tr>\n  </tbody>\n</table>\n<p>15216 rows × 2 columns</p>\n</div>"
     },
     "execution_count": 9,
     "metadata": {},
     "output_type": "execute_result"
    }
   ],
   "source": [
    "pun_df"
   ],
   "metadata": {
    "collapsed": false,
    "pycharm": {
     "name": "#%%\n"
    }
   }
  },
  {
   "cell_type": "code",
   "execution_count": 11,
   "outputs": [],
   "source": [
    "pun_df.to_json('../data/clean/json/ready_puns.ipynb','records',lines=True)"
   ],
   "metadata": {
    "collapsed": false,
    "pycharm": {
     "name": "#%%\n"
    }
   }
  },
  {
   "cell_type": "code",
   "execution_count": 12,
   "outputs": [
    {
     "name": "stdout",
     "output_type": "stream",
     "text": [
      "{\"question\":\"Big gp. of towers? \",\"answer\":\"AAA\"}\r\n",
      "{\"question\":\"Great \\\"Three R's\\\" report card?\",\"answer\":\"AAA\"}\r\n",
      "{\"question\":\"Org. that can get you discounts on mortgages and shoes (what?)\",\"answer\":\"AAA\"}\r\n",
      "{\"question\":\"Fonzi's report card, so he says?\",\"answer\":\"AAAA\"}\r\n",
      "{\"question\":\"Sound heard from a Jacuzzi? \",\"answer\":\"AAH\"}\r\n",
      "{\"question\":\"Willie of \\\"Charles in Charge\\\" taking over an entire state?\",\"answer\":\"AAMES IOWA\"}\r\n",
      "{\"question\":\"Momentous event in baseball history, as it turned out?\",\"answer\":\"AARON BIRTH\"}\r\n",
      "{\"question\":\"\\\"Hamilton\\\" number performed in subfreezing temperatures?\",\"answer\":\"AARON B RR SIR\"}\r\n",
      "{\"question\":\"Fuel for your Game Boys (Is that what they call handheld consoles still?)\",\"answer\":\"AAS\"}\r\n",
      "{\"question\":\"\\\"Get off the boat, you flower child!\\\"?\",\"answer\":\"ABANDON SHIPPIE\"}\r\n"
     ]
    }
   ],
   "source": [
    "!head ../data/clean/json/ready_puns.ipynb"
   ],
   "metadata": {
    "collapsed": false,
    "pycharm": {
     "name": "#%%\n"
    }
   }
  },
  {
   "cell_type": "code",
   "execution_count": null,
   "outputs": [],
   "source": [],
   "metadata": {
    "collapsed": false,
    "pycharm": {
     "name": "#%%\n"
    }
   }
  }
 ],
 "metadata": {
  "kernelspec": {
   "name": "conda-env-pytorch-rapids-py",
   "language": "python",
   "display_name": "Python [conda env:pytorch-rapids]"
  },
  "language_info": {
   "codemirror_mode": {
    "name": "ipython",
    "version": 2
   },
   "file_extension": ".py",
   "mimetype": "text/x-python",
   "name": "python",
   "nbconvert_exporter": "python",
   "pygments_lexer": "ipython2",
   "version": "2.7.6"
  }
 },
 "nbformat": 4,
 "nbformat_minor": 0
}